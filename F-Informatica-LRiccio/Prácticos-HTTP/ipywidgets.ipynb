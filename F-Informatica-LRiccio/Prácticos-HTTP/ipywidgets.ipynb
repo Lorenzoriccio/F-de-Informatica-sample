{
 "cells": [
  {
   "cell_type": "code",
   "execution_count": 4,
   "metadata": {},
   "outputs": [],
   "source": [
    "import ipywidgets as widgets\n",
    "from ipywidgets import HTML, VBox"
   ]
  },
  {
   "cell_type": "code",
   "execution_count": 8,
   "metadata": {},
   "outputs": [],
   "source": [
    "h1_main_section = widgets.HTML(\"\"\"\n",
    "    <h1 style='font-size:25px; color:black'>\n",
    "        <b>Welcome to my first API!</b>\n",
    "    </h1>\"\"\")\n",
    "\n",
    "main_text = widgets.HTML(\"\"\"\n",
    "    <p style='font-size:25px; color:red'>\n",
    "    This is an API built in Python \n",
    "    </p>\"\"\")"
   ]
  },
  {
   "cell_type": "code",
   "execution_count": 9,
   "metadata": {},
   "outputs": [
    {
     "data": {
      "application/vnd.jupyter.widget-view+json": {
       "model_id": "e84b1018f68241aa91d693315d255b41",
       "version_major": 2,
       "version_minor": 0
      },
      "text/plain": [
       "VBox(children=(HTML(value=\"\\n    <h1 style='font-size:25px; color:black'>\\n        <b>Welcome to my first API!…"
      ]
     },
     "metadata": {},
     "output_type": "display_data"
    }
   ],
   "source": [
    "from ipywidgets import Layout\n",
    "\n",
    "layouts_intro = Layout(display='flex',\n",
    "                    flex_flow='flex-wrap',\n",
    "                    flex_direction='column',\n",
    "                    width='61%',\n",
    "                    margin='0px 10px 5px 20px',\n",
    "                    padding='2px 4% 0 1%',)\n",
    "\n",
    "main_section_vbox = widgets.VBox([h1_main_section, main_text], layout=layouts_intro)"
   ]
  }
 ],
 "metadata": {
  "interpreter": {
   "hash": "daf41a7fa47107aff3fc31082ab275bb84b57ea5f8287273957bb5ae1e2c51d0"
  },
  "kernelspec": {
   "display_name": "Python 3.10.2 64-bit (windows store)",
   "language": "python",
   "name": "python3"
  },
  "language_info": {
   "codemirror_mode": {
    "name": "ipython",
    "version": 3
   },
   "file_extension": ".py",
   "mimetype": "text/x-python",
   "name": "python",
   "nbconvert_exporter": "python",
   "pygments_lexer": "ipython3",
   "version": "3.10.2"
  },
  "orig_nbformat": 4
 },
 "nbformat": 4,
 "nbformat_minor": 2
}
