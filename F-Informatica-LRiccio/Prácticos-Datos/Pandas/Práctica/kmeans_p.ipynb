{
 "cells": [
  {
   "cell_type": "code",
   "execution_count": null,
   "metadata": {},
   "outputs": [],
   "source": [
    "# %matplotlib inline\n",
    "import pandas as pd #Pandas para usar dataframes\n",
    "import matplotlib.pyplot as plt #Para graficar\n",
    "import matplotlib.cm as cm #Para graficar el silhouette\n",
    "import seaborn as sns #Para graficar\n",
    "import numpy as np #Para realizar operaciones númericas con matrices y arrays\n",
    "from sklearn import datasets #sklearn es LA biblioteca de machine learning de python\n",
    "from sklearn.cluster import KMeans, DBSCAN #Para usar kmeans\n",
    "from sklearn.preprocessing import StandardScaler #Para estandarizar nuestros datos\n",
    "from sklearn.metrics import silhouette_samples, silhouette_score #Para el coeficiente de silhouette\n",
    "from sklearn.cluster import AgglomerativeClustering #Para clustering jerárquico\n",
    "from sklearn.metrics import pairwise_distances #Para las distancias a pares\n",
    "from scipy.cluster.hierarchy import dendrogram, cophenet, linkage #Para graficar los dendrogramas y calcular el coeficiente cofenetico\n",
    "from scipy.cluster import hierarchy #Para graficar los dendrogramas\n",
    "from scipy.spatial.distance import pdist #Para calcular la distancia con el coeficiente cofenetico\n",
    "\n",
    "''' Ejercicios de complemento de la teoría: KMeans - Práctico\n",
    "Paso 1: cargar los datos: \n",
    "\n",
    "stock_data = pd.read_csv(\"dataset_clustering_teorico.csv\")\n",
    "stock_data.head()\n",
    "\n",
    "Paso 1 Inspeccioná el DataFrame y caracterizalo\n",
    "Paso 2 Normaliza los datos y guardálos en una variable llamada stock_data_normalizado\n",
    "Paso 3 Aplicá el método k-means usando k=14\n",
    "Paso 4 Evaluá tus resultados\n",
    "'''"
   ]
  }
 ],
 "metadata": {
  "language_info": {
   "name": "python"
  },
  "orig_nbformat": 4
 },
 "nbformat": 4,
 "nbformat_minor": 2
}
