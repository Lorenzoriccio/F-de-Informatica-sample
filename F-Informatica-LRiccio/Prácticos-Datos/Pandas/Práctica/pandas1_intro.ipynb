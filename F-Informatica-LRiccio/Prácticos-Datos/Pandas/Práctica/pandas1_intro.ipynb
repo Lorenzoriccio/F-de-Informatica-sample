{
 "cells": [
  {
   "cell_type": "code",
   "execution_count": null,
   "metadata": {},
   "outputs": [],
   "source": [
    "# Faltam los ejercicios: 1, 2 y 4"
   ]
  },
  {
   "cell_type": "code",
   "execution_count": 8,
   "metadata": {},
   "outputs": [
    {
     "name": "stdout",
     "output_type": "stream",
     "text": [
      "Suma:\n",
      "0     4\n",
      "1    11\n",
      "2    22\n",
      "3    29\n",
      "4    40\n",
      "dtype: int64\n"
     ]
    }
   ],
   "source": [
    "'''\n",
    "Ejercicio 1\n",
    "Escribí un programa que sume, reste, multiplique y divida dos series de números de Pandas.\n",
    "Series de muestra:\n",
    "[3, 7, 12, 15, 21], [1, 4, 10, 14, 19] '''\n",
    "import pandas as pd \n",
    "ser1 = [3, 7, 12, 15, 21]\n",
    "ser2 = [1, 4, 10, 14, 19]\n",
    "\n",
    "ds1 = pd.Series(ser1)\n",
    "ds2 = pd.Series(ser2)\n",
    "\n",
    "print('Suma:')\n",
    "print(ds1 + ds2)"
   ]
  },
  {
   "cell_type": "code",
   "execution_count": 9,
   "metadata": {},
   "outputs": [
    {
     "name": "stdout",
     "output_type": "stream",
     "text": [
      "\n",
      "Resta:\n",
      "0    2\n",
      "1    3\n",
      "2    2\n",
      "3    1\n",
      "4    2\n",
      "dtype: int64\n"
     ]
    }
   ],
   "source": [
    "print('\\nResta:')\n",
    "print(ds1 - ds2)"
   ]
  },
  {
   "cell_type": "code",
   "execution_count": 10,
   "metadata": {},
   "outputs": [
    {
     "name": "stdout",
     "output_type": "stream",
     "text": [
      "\n",
      "Multiplicación:\n",
      "0      3\n",
      "1     28\n",
      "2    120\n",
      "3    210\n",
      "4    399\n",
      "dtype: int64\n"
     ]
    }
   ],
   "source": [
    "print('\\nMultiplicación:')\n",
    "print(ds1 * ds2)"
   ]
  },
  {
   "cell_type": "code",
   "execution_count": 11,
   "metadata": {},
   "outputs": [
    {
     "name": "stdout",
     "output_type": "stream",
     "text": [
      "\n",
      "División:\n",
      "0    3.000000\n",
      "1    1.750000\n",
      "2    1.200000\n",
      "3    1.071429\n",
      "4    1.105263\n",
      "dtype: float64\n"
     ]
    }
   ],
   "source": [
    "print('\\nDivisión:')\n",
    "print(ds1 / ds2)"
   ]
  },
  {
   "cell_type": "code",
   "execution_count": 12,
   "metadata": {},
   "outputs": [
    {
     "name": "stdout",
     "output_type": "stream",
     "text": [
      "Igualdad: \n",
      "0    False\n",
      "1     True\n",
      "2    False\n",
      "3    False\n",
      "4    False\n",
      "dtype: bool\n"
     ]
    }
   ],
   "source": [
    "'''\n",
    "Ejercicio 2\n",
    "Realizá un programa que compare (si son mayores, menores o iguales) los elementos de dos series de números de Pandas.\n",
    "Series de muestra:\n",
    "[3, 7, 9, 14, 25], [1, 7, 10, 16, 19] '''\n",
    "import pandas as pd \n",
    "serie1 = [3, 7, 9, 14, 25]\n",
    "serie2 = [1, 7, 10, 16, 19]\n",
    "\n",
    "ss1 = pd.Series(serie1)\n",
    "ss2 = pd.Series(serie2)\n",
    "\n",
    "print('Igualdad: ')\n",
    "print(ss1 == ss2)"
   ]
  },
  {
   "cell_type": "code",
   "execution_count": 13,
   "metadata": {},
   "outputs": [
    {
     "name": "stdout",
     "output_type": "stream",
     "text": [
      "\n",
      "Serie 1 mayor a Serie 2:\n",
      "0     True\n",
      "1    False\n",
      "2    False\n",
      "3    False\n",
      "4     True\n",
      "dtype: bool\n"
     ]
    }
   ],
   "source": [
    "print('\\nSerie 1 mayor a Serie 2:')\n",
    "print(ss1 > ss2) "
   ]
  },
  {
   "cell_type": "code",
   "execution_count": 14,
   "metadata": {},
   "outputs": [
    {
     "name": "stdout",
     "output_type": "stream",
     "text": [
      "\n",
      "Serie 1 menor a Serie 2:\n",
      "0    False\n",
      "1    False\n",
      "2     True\n",
      "3     True\n",
      "4    False\n",
      "dtype: bool\n"
     ]
    }
   ],
   "source": [
    "print('\\nSerie 1 menor a Serie 2:')\n",
    "print(ss1 < ss2)"
   ]
  },
  {
   "cell_type": "code",
   "execution_count": 5,
   "metadata": {},
   "outputs": [
    {
     "name": "stdout",
     "output_type": "stream",
     "text": [
      "  Letra  Valor\n",
      "0     a     10\n",
      "1     b     20\n",
      "2     c     30\n",
      "3     d     40\n",
      "4     e     50\n"
     ]
    }
   ],
   "source": [
    "'''\n",
    "Ejercicio 3\n",
    "Escribí un programa para convertir un diccionario a una serie de Pandas.\n",
    "Diccionario de muestra:\n",
    "dict1 = {\"a\": 10, \"b\": 20, \"c\": 30, \"d\": 40, \"e\": 50}'''\n",
    "import pandas as pd\n",
    "dict1 = {'Letra':['a','b','c','d','e'], 'Valor':[10,20,30,40,50]}\n",
    "df = pd.DataFrame(dict1)\n",
    "print(df)"
   ]
  },
  {
   "cell_type": "code",
   "execution_count": 18,
   "metadata": {},
   "outputs": [
    {
     "name": "stdout",
     "output_type": "stream",
     "text": [
      "{'a': [1, 25], 'b': [16, 27]}\n",
      "    a   b\n",
      "0   1  16\n",
      "1  25  27\n"
     ]
    }
   ],
   "source": [
    "'''\n",
    "Ejercicio 4\n",
    "Escribí un programa que dado un diccionario cuyos valores son listas de números, cree otro diccionario con las mismas claves, \n",
    "pero donde los valores sean una lista de números donde se potencia un número por el siguiente, tomándolos de a pares. Para ser \n",
    "más claros miremos este ejemplo donde si un diccionario es:\n",
    "\n",
    "dict1 = {\"a\": [1,3,5,2], \"b\": [4,2,3,3]}\n",
    "el diccionario resultante debería ser:\n",
    "dict2 = {\"a\": [1, 25], \"b\": [16, 27]}\n",
    "\n",
    "Esto se obtiene al hacer 1 al cubo (el primer par de la lista \"a\"), y 5 al cuadrado, por un lado; y 4 al cuadrado y 3 al cubo por el otro. \n",
    "Se considera que la cantidad de elementos en las listas siempre es par, por lo que no habría que hacer ninguna comprobación al respecto. \n",
    "Se puede usar el dict1 como diccionario de muestra, pero considerá que la lista puede ser más grande. Por último hay que convertir este \n",
    "último diccionario en un DataFrame de Pandas.\n",
    "'''\n",
    "# Hecho con Guille el 27/5\n",
    "# No lo entendí, preguntar\n",
    "import pandas as pd \n",
    "dict1 = {\"a\": [1,3,5,2], \"b\": [4,2,3,3]}\n",
    "dict2 = {} \n",
    "\n",
    "for clave, valor in dict1.items(): \n",
    "    pares = []\n",
    "    impares = []\n",
    "    potencia = []\n",
    "    for i in range(len(valor)): \n",
    "        if i % 2 == 0: \n",
    "            pares.append(valor[i])\n",
    "        else: \n",
    "            impares.append(valor[i])\n",
    "    for i in range(len(pares)): \n",
    "        potencia.append(pares[i] ** impares[i])\n",
    "    dict2[clave] = potencia \n",
    "print(dict2)\n",
    "\n",
    "new_df = pd.DataFrame(dict2)\n",
    "print(new_df)"
   ]
  },
  {
   "cell_type": "code",
   "execution_count": 20,
   "metadata": {},
   "outputs": [
    {
     "name": "stdout",
     "output_type": "stream",
     "text": [
      "     nombre  puntaje  intentos  califica\n",
      "a  Agustina     12.5         1         1\n",
      "b     Diana      9.0         3         0\n",
      "c     Karen     16.5         2         1\n",
      "d    Julián     13.0         3         0\n",
      "e    Emilio      9.0         2         0\n",
      "f    Miguel     20.0         3         1\n",
      "g     Mateo     14.5         1         1\n",
      "h     Laura     10.0         1         0\n",
      "i     Jorge      8.0         2         0\n",
      "j     Lucas     19.0         1         1\n"
     ]
    }
   ],
   "source": [
    "'''\n",
    "Ejercicio 5\n",
    "Realizá un programa para crear y mostrar un DataFrame a partir de un diccionario y de unas etiquetas (o labels).\n",
    "Muestra:\n",
    "datos_ejemplo = {\"nombre\": [\"Agustina\", \"Diana\", \"Karen\", \"Julián\", \"Emilio\", \"Miguel\", \"Mateo\", \"Laura\", \"Jorge\", \"Lucas\"], \"puntaje\": [12.5, 9, 16.5, 13, 9, 20, 14.5, 10, 8, 19], \"intentos\": [1, 3, 2, 3, 2, 3, 1, 1, 2, 1], \"califica\": [1, 0, 1, 0, 0, 1, 1, 0, 0, 1]}\n",
    "labels = [\"a\", \"b\", \"c\", \"d\", \"e\", \"f\", \"g\", \"h\", \"i\", \"j\"]'''\n",
    "datos_ejemplo = {\"nombre\": [\"Agustina\", \"Diana\", \"Karen\", \"Julián\", \"Emilio\", \"Miguel\", \"Mateo\", \"Laura\", \"Jorge\", \"Lucas\"], \"puntaje\": [12.5, 9, 16.5, 13, 9, 20, 14.5, 10, 8, 19], \"intentos\": [1, 3, 2, 3, 2, 3, 1, 1, 2, 1], \"califica\": [1, 0, 1, 0, 0, 1, 1, 0, 0, 1]}\n",
    "labels = [\"a\", \"b\", \"c\", \"d\", \"e\", \"f\", \"g\", \"h\", \"i\", \"j\"]\n",
    "df = pd.DataFrame(datos_ejemplo, labels)\n",
    "print(df)"
   ]
  },
  {
   "cell_type": "code",
   "execution_count": 21,
   "metadata": {},
   "outputs": [
    {
     "name": "stdout",
     "output_type": "stream",
     "text": [
      "<class 'pandas.core.frame.DataFrame'>\n",
      "Index: 10 entries, a to j\n",
      "Data columns (total 4 columns):\n",
      " #   Column    Non-Null Count  Dtype  \n",
      "---  ------    --------------  -----  \n",
      " 0   nombre    10 non-null     object \n",
      " 1   puntaje   10 non-null     float64\n",
      " 2   intentos  10 non-null     int64  \n",
      " 3   califica  10 non-null     int64  \n",
      "dtypes: float64(1), int64(2), object(1)\n",
      "memory usage: 400.0+ bytes\n"
     ]
    }
   ],
   "source": [
    "'''\n",
    "Ejercicio 6\n",
    "Escribí un programa que muestre un resumen de la información básica de un DataFrame y sus datos.\n",
    "Muestra:\n",
    "datos_ejemplo = {\"nombre\": [\"Agustina\", \"Diana\", \"Karen\", \"Julián\", \"Emilio\", \"Miguel\", \"Mateo\", \"Laura\", \"Jorge\", \"Lucas\"], \"puntaje\": [12.5, 9, 16.5, 13, 9, 20, 14.5, 10, 8, 19], \"intentos\": [1, 3, 2, 3, 2, 3, 1, 1, 2, 1], \"califica\": [1, 0, 1, 0, 0, 1, 1, 0, 0, 1]}\n",
    "labels = [\"a\", \"b\", \"c\", \"d\", \"e\", \"f\", \"g\", \"h\", \"i\", \"j\"]'''\n",
    "df.info()\n"
   ]
  },
  {
   "cell_type": "code",
   "execution_count": 18,
   "metadata": {},
   "outputs": [
    {
     "data": {
      "text/html": [
       "<div>\n",
       "<style scoped>\n",
       "    .dataframe tbody tr th:only-of-type {\n",
       "        vertical-align: middle;\n",
       "    }\n",
       "\n",
       "    .dataframe tbody tr th {\n",
       "        vertical-align: top;\n",
       "    }\n",
       "\n",
       "    .dataframe thead th {\n",
       "        text-align: right;\n",
       "    }\n",
       "</style>\n",
       "<table border=\"1\" class=\"dataframe\">\n",
       "  <thead>\n",
       "    <tr style=\"text-align: right;\">\n",
       "      <th></th>\n",
       "      <th>nombre</th>\n",
       "      <th>puntaje</th>\n",
       "      <th>intentos</th>\n",
       "      <th>califica</th>\n",
       "    </tr>\n",
       "  </thead>\n",
       "  <tbody>\n",
       "    <tr>\n",
       "      <th>a</th>\n",
       "      <td>Agustina</td>\n",
       "      <td>12.5</td>\n",
       "      <td>1</td>\n",
       "      <td>1</td>\n",
       "    </tr>\n",
       "    <tr>\n",
       "      <th>b</th>\n",
       "      <td>Diana</td>\n",
       "      <td>9.0</td>\n",
       "      <td>3</td>\n",
       "      <td>0</td>\n",
       "    </tr>\n",
       "    <tr>\n",
       "      <th>c</th>\n",
       "      <td>Karen</td>\n",
       "      <td>16.5</td>\n",
       "      <td>2</td>\n",
       "      <td>1</td>\n",
       "    </tr>\n",
       "  </tbody>\n",
       "</table>\n",
       "</div>"
      ],
      "text/plain": [
       "     nombre  puntaje  intentos  califica\n",
       "a  Agustina     12.5         1         1\n",
       "b     Diana      9.0         3         0\n",
       "c     Karen     16.5         2         1"
      ]
     },
     "execution_count": 18,
     "metadata": {},
     "output_type": "execute_result"
    }
   ],
   "source": [
    "'''\n",
    "Ejercicio 7\n",
    "Escribí un programa que obtenga las 3 primeras filas de un DataFrame dado.\n",
    "Muestra:\n",
    "datos_ejemplo = {\"nombre\": [\"Agustina\", \"Diana\", \"Karen\", \"Julián\", \"Emilio\", \"Miguel\", \"Mateo\", \"Laura\", \"Jorge\", \"Lucas\"], \"puntaje\": [12.5, 9, 16.5, 13, 9, 20, 14.5, 10, 8, 19], \"intentos\": [1, 3, 2, 3, 2, 3, 1, 1, 2, 1], \"califica\": [1, 0, 1, 0, 0, 1, 1, 0, 0, 1]}\n",
    "labels = [\"a\", \"b\", \"c\", \"d\", \"e\", \"f\", \"g\", \"h\", \"i\", \"j\"]'''\n",
    "df.head(3)"
   ]
  },
  {
   "cell_type": "code",
   "execution_count": 24,
   "metadata": {},
   "outputs": [
    {
     "data": {
      "text/html": [
       "<div>\n",
       "<style scoped>\n",
       "    .dataframe tbody tr th:only-of-type {\n",
       "        vertical-align: middle;\n",
       "    }\n",
       "\n",
       "    .dataframe tbody tr th {\n",
       "        vertical-align: top;\n",
       "    }\n",
       "\n",
       "    .dataframe thead th {\n",
       "        text-align: right;\n",
       "    }\n",
       "</style>\n",
       "<table border=\"1\" class=\"dataframe\">\n",
       "  <thead>\n",
       "    <tr style=\"text-align: right;\">\n",
       "      <th></th>\n",
       "      <th>nombre</th>\n",
       "      <th>puntaje</th>\n",
       "    </tr>\n",
       "  </thead>\n",
       "  <tbody>\n",
       "    <tr>\n",
       "      <th>a</th>\n",
       "      <td>Agustina</td>\n",
       "      <td>12.5</td>\n",
       "    </tr>\n",
       "    <tr>\n",
       "      <th>b</th>\n",
       "      <td>Diana</td>\n",
       "      <td>9.0</td>\n",
       "    </tr>\n",
       "    <tr>\n",
       "      <th>c</th>\n",
       "      <td>Karen</td>\n",
       "      <td>16.5</td>\n",
       "    </tr>\n",
       "    <tr>\n",
       "      <th>d</th>\n",
       "      <td>Julián</td>\n",
       "      <td>13.0</td>\n",
       "    </tr>\n",
       "    <tr>\n",
       "      <th>e</th>\n",
       "      <td>Emilio</td>\n",
       "      <td>9.0</td>\n",
       "    </tr>\n",
       "    <tr>\n",
       "      <th>f</th>\n",
       "      <td>Miguel</td>\n",
       "      <td>20.0</td>\n",
       "    </tr>\n",
       "    <tr>\n",
       "      <th>g</th>\n",
       "      <td>Mateo</td>\n",
       "      <td>14.5</td>\n",
       "    </tr>\n",
       "    <tr>\n",
       "      <th>h</th>\n",
       "      <td>Laura</td>\n",
       "      <td>10.0</td>\n",
       "    </tr>\n",
       "    <tr>\n",
       "      <th>i</th>\n",
       "      <td>Jorge</td>\n",
       "      <td>8.0</td>\n",
       "    </tr>\n",
       "    <tr>\n",
       "      <th>j</th>\n",
       "      <td>Lucas</td>\n",
       "      <td>19.0</td>\n",
       "    </tr>\n",
       "  </tbody>\n",
       "</table>\n",
       "</div>"
      ],
      "text/plain": [
       "     nombre  puntaje\n",
       "a  Agustina     12.5\n",
       "b     Diana      9.0\n",
       "c     Karen     16.5\n",
       "d    Julián     13.0\n",
       "e    Emilio      9.0\n",
       "f    Miguel     20.0\n",
       "g     Mateo     14.5\n",
       "h     Laura     10.0\n",
       "i     Jorge      8.0\n",
       "j     Lucas     19.0"
      ]
     },
     "execution_count": 24,
     "metadata": {},
     "output_type": "execute_result"
    }
   ],
   "source": [
    "'''\n",
    "Ejercicio 8\n",
    "Realizá un programa que seleccione e impirma las columnas \"nombre\" y \"puntaje\" del DataFrama anterior.'''\n",
    "df[[\"nombre\",\"puntaje\"]]"
   ]
  },
  {
   "cell_type": "code",
   "execution_count": 22,
   "metadata": {},
   "outputs": [
    {
     "data": {
      "text/html": [
       "<div>\n",
       "<style scoped>\n",
       "    .dataframe tbody tr th:only-of-type {\n",
       "        vertical-align: middle;\n",
       "    }\n",
       "\n",
       "    .dataframe tbody tr th {\n",
       "        vertical-align: top;\n",
       "    }\n",
       "\n",
       "    .dataframe thead th {\n",
       "        text-align: right;\n",
       "    }\n",
       "</style>\n",
       "<table border=\"1\" class=\"dataframe\">\n",
       "  <thead>\n",
       "    <tr style=\"text-align: right;\">\n",
       "      <th></th>\n",
       "      <th>0</th>\n",
       "    </tr>\n",
       "  </thead>\n",
       "  <tbody>\n",
       "    <tr>\n",
       "      <th>8</th>\n",
       "      <td>AGUSTINA</td>\n",
       "    </tr>\n",
       "    <tr>\n",
       "      <th>5</th>\n",
       "      <td>DIANA</td>\n",
       "    </tr>\n",
       "    <tr>\n",
       "      <th>5</th>\n",
       "      <td>KAREN</td>\n",
       "    </tr>\n",
       "    <tr>\n",
       "      <th>6</th>\n",
       "      <td>JULIÁN</td>\n",
       "    </tr>\n",
       "    <tr>\n",
       "      <th>6</th>\n",
       "      <td>EMILIO</td>\n",
       "    </tr>\n",
       "    <tr>\n",
       "      <th>6</th>\n",
       "      <td>MIGUEL</td>\n",
       "    </tr>\n",
       "    <tr>\n",
       "      <th>5</th>\n",
       "      <td>MATEO</td>\n",
       "    </tr>\n",
       "    <tr>\n",
       "      <th>5</th>\n",
       "      <td>LAURA</td>\n",
       "    </tr>\n",
       "    <tr>\n",
       "      <th>5</th>\n",
       "      <td>JORGE</td>\n",
       "    </tr>\n",
       "    <tr>\n",
       "      <th>5</th>\n",
       "      <td>LUCAS</td>\n",
       "    </tr>\n",
       "  </tbody>\n",
       "</table>\n",
       "</div>"
      ],
      "text/plain": [
       "          0\n",
       "8  AGUSTINA\n",
       "5     DIANA\n",
       "5     KAREN\n",
       "6    JULIÁN\n",
       "6    EMILIO\n",
       "6    MIGUEL\n",
       "5     MATEO\n",
       "5     LAURA\n",
       "5     JORGE\n",
       "5     LUCAS"
      ]
     },
     "execution_count": 22,
     "metadata": {},
     "output_type": "execute_result"
    }
   ],
   "source": [
    "'''\n",
    "Ejercicio 9\n",
    "Escribí un programa que dado el DataFrame anterior imprima los nombres en mayúscula y la longitud de los mismos en una nueva tabla.'''\n",
    "mayus = []\n",
    "length = [] \n",
    "for nombre in datos_ejemplo[\"nombre\"]: \n",
    "    mayus.append(str.upper(nombre))\n",
    "    length.append(len(nombre))\n",
    "\n",
    "df_filtrado = pd.DataFrame(mayus, length)\n",
    "df_filtrado"
   ]
  }
 ],
 "metadata": {
  "interpreter": {
   "hash": "f8ca15d83b6fb72cece3edcf60f6aa40d2cbdeb5c60e0f188ff8c7c65828fd00"
  },
  "kernelspec": {
   "display_name": "Python 3.10.4 64-bit (windows store)",
   "language": "python",
   "name": "python3"
  },
  "language_info": {
   "codemirror_mode": {
    "name": "ipython",
    "version": 3
   },
   "file_extension": ".py",
   "mimetype": "text/x-python",
   "name": "python",
   "nbconvert_exporter": "python",
   "pygments_lexer": "ipython3",
   "version": "3.10.5"
  },
  "orig_nbformat": 4
 },
 "nbformat": 4,
 "nbformat_minor": 2
}
