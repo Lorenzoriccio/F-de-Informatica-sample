{
 "cells": [
  {
   "cell_type": "code",
   "execution_count": 1,
   "metadata": {},
   "outputs": [
    {
     "ename": "SyntaxError",
     "evalue": "(unicode error) 'unicodeescape' codec can't decode bytes in position 2-3: truncated \\UXXXXXXXX escape (3407746266.py, line 2)",
     "output_type": "error",
     "traceback": [
      "\u001b[1;36m  Input \u001b[1;32mIn [1]\u001b[1;36m\u001b[0m\n\u001b[1;33m    personas = pd.read_csv('''C:\\Users\\Usuario\\Desktop\\UNIVERSIDAD\\fund_info\\F-de-Informatica-sample\\F-Informatica-LRiccio\\Prácticos-Datos\\Pandas\\personas_2011.csv''')\u001b[0m\n\u001b[1;37m                                                                                                                                                                      ^\u001b[0m\n\u001b[1;31mSyntaxError\u001b[0m\u001b[1;31m:\u001b[0m (unicode error) 'unicodeescape' codec can't decode bytes in position 2-3: truncated \\UXXXXXXXX escape\n"
     ]
    }
   ],
   "source": [
    "import pandas as pd\n",
    "personas = pd.read_csv('''C:\\Users\\Usuario\\Desktop\\UNIVERSIDAD\\fund_info\\F-de-Informatica-sample\\F-Informatica-LRiccio\\Prácticos-Datos\\Pandas\\personas_2011.csv''')\n",
    "personas "
   ]
  }
 ],
 "metadata": {
  "interpreter": {
   "hash": "daf41a7fa47107aff3fc31082ab275bb84b57ea5f8287273957bb5ae1e2c51d0"
  },
  "kernelspec": {
   "display_name": "Python 3.10.2 64-bit (windows store)",
   "language": "python",
   "name": "python3"
  },
  "language_info": {
   "codemirror_mode": {
    "name": "ipython",
    "version": 3
   },
   "file_extension": ".py",
   "mimetype": "text/x-python",
   "name": "python",
   "nbconvert_exporter": "python",
   "pygments_lexer": "ipython3",
   "version": "3.10.2"
  },
  "orig_nbformat": 4
 },
 "nbformat": 4,
 "nbformat_minor": 2
}
