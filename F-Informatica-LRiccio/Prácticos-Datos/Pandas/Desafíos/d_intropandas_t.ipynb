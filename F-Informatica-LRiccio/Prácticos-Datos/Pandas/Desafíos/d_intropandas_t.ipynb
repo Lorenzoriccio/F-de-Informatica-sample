{
 "cells": [
  {
   "cell_type": "code",
   "execution_count": null,
   "metadata": {},
   "outputs": [],
   "source": [
    "# Falta el desafío 8"
   ]
  },
  {
   "cell_type": "code",
   "execution_count": 2,
   "metadata": {},
   "outputs": [],
   "source": [
    "import pandas as pd\n",
    "'''Diferencia Series y Dataframe: \n",
    "una_serie = pd.Series(['Peru', 'Argentina', 'Bolivia', 'Uruguay', 'Brasil', 'Chile'], dtype='string')\n",
    "print(una_serie)\n",
    "un_dataframe = pd.DataFrame(data ={\"Pais\": ['Peru', 'Argentina', 'Bolivia', 'Uruguay', 'Brasil', 'Chile'], \"Lengua oficial primaria\": ['Español', 'Español', 'Español', 'Español', 'Portugues', 'Español']}, index = [1,2,3,4,5,6])\n",
    "print(un_dataframe)'''\n",
    "personas = pd.read_csv(r'C:\\Users\\Usuario\\Desktop\\UNIVERSIDAD\\fund_info\\F-de-Informatica-sample\\F-Informatica-LRiccio\\Prácticos-Datos\\Pandas\\personas_2011.csv', sep=';')\n",
    "# Desafío I: Estos métodos aceptan otros parámetros que merecen la pena ser explorados. Averiguá para qué sirven los parámetro sep, index_col, nrows y header\n",
    "# sep --> Sirve para separar los datos segun el caracter que le ponga\n",
    "# index_col --> Sirve para usar columnas como etiquetas de fila del DataFrame, ya sea como nombre de cadena o índice de columna.\n",
    "# nrows --> Número de filas de archivo a leer. Muestra las primeras n filas."
   ]
  },
  {
   "cell_type": "code",
   "execution_count": null,
   "metadata": {},
   "outputs": [],
   "source": [
    "# Desafío II: Descargá a tu computadora la tabla de personas que conforman el Ministerio de Ciencia y Tecnología de Argentina, en formato csv.\n",
    "# Listo\n",
    "\n",
    "# personas.info() --> informacion de tipos de datos y valores no nulos\n",
    "# personas.describe() --> informacion estadistica contable "
   ]
  },
  {
   "cell_type": "code",
   "execution_count": 6,
   "metadata": {},
   "outputs": [],
   "source": [
    "# Desafío III: Extrae la columna seniority_level y contá cuántas personas tenían expertice nivel B, C y D\n",
    "# Desafío IV: ¿Qué resultados obtuviste en cada caso? Explicá qué hace cada linea de código\n",
    "\n",
    "# personas[\"seniority_level\"].count() --> 68552\n",
    "# personas.groupby(\"seniority_level\").count() --> cuenta en seniority_level los nros de todas las columnas\n",
    "# personas.groupby(\"seniority_level\")[[\"persona_id\"]].count() --> df de sólo seniority_level y personas_id"
   ]
  },
  {
   "cell_type": "code",
   "execution_count": 8,
   "metadata": {},
   "outputs": [
    {
     "data": {
      "text/plain": [
       "2098"
      ]
     },
     "execution_count": 8,
     "metadata": {},
     "output_type": "execute_result"
    }
   ],
   "source": [
    "# Desafío V: Contá cuántas personas de 30 años ingresaron al ministerio en 2011 ¿Cuántas formas de hacer este cálculo se te ocurren?\n",
    "personas[(personas[\"anio\"] == 2011) & (personas[\"edad\"] == 30)].persona_id.count()"
   ]
  },
  {
   "cell_type": "code",
   "execution_count": 10,
   "metadata": {},
   "outputs": [
    {
     "data": {
      "text/html": [
       "<div>\n",
       "<style scoped>\n",
       "    .dataframe tbody tr th:only-of-type {\n",
       "        vertical-align: middle;\n",
       "    }\n",
       "\n",
       "    .dataframe tbody tr th {\n",
       "        vertical-align: top;\n",
       "    }\n",
       "\n",
       "    .dataframe thead th {\n",
       "        text-align: right;\n",
       "    }\n",
       "</style>\n",
       "<table border=\"1\" class=\"dataframe\">\n",
       "  <thead>\n",
       "    <tr style=\"text-align: right;\">\n",
       "      <th></th>\n",
       "      <th>categoria_conicet_id</th>\n",
       "      <th>categoria_conicet_descripcion</th>\n",
       "    </tr>\n",
       "  </thead>\n",
       "  <tbody>\n",
       "    <tr>\n",
       "      <th>0</th>\n",
       "      <td>-1</td>\n",
       "      <td>No pertenece a Conicet</td>\n",
       "    </tr>\n",
       "    <tr>\n",
       "      <th>1</th>\n",
       "      <td>1</td>\n",
       "      <td>Investigador asistente</td>\n",
       "    </tr>\n",
       "    <tr>\n",
       "      <th>2</th>\n",
       "      <td>2</td>\n",
       "      <td>Investigador adjunto</td>\n",
       "    </tr>\n",
       "    <tr>\n",
       "      <th>3</th>\n",
       "      <td>3</td>\n",
       "      <td>Investigador independiente</td>\n",
       "    </tr>\n",
       "    <tr>\n",
       "      <th>4</th>\n",
       "      <td>4</td>\n",
       "      <td>Investigador principal</td>\n",
       "    </tr>\n",
       "  </tbody>\n",
       "</table>\n",
       "</div>"
      ],
      "text/plain": [
       "   categoria_conicet_id categoria_conicet_descripcion\n",
       "0                    -1        No pertenece a Conicet\n",
       "1                     1        Investigador asistente\n",
       "2                     2          Investigador adjunto\n",
       "3                     3    Investigador independiente\n",
       "4                     4        Investigador principal"
      ]
     },
     "execution_count": 10,
     "metadata": {},
     "output_type": "execute_result"
    }
   ],
   "source": [
    "# Desafío VI: Descargala en formato csv y cargala en un nuevo DataFrame de nombre categorias \n",
    "# Desafío VII: Identificá si existen columnas en común con el DataFrame grande\n",
    "categorias = pd.read_csv(r'C:\\Users\\Usuario\\Desktop\\UNIVERSIDAD\\fund_info\\F-de-Informatica-sample\\F-Informatica-LRiccio\\Prácticos-Datos\\Pandas\\ref_categoria_conicet.csv', sep=';')\n",
    "categorias.head() #--> categoria_conicet_id es la columna en común "
   ]
  },
  {
   "cell_type": "code",
   "execution_count": null,
   "metadata": {},
   "outputs": [],
   "source": [
    "# Desafío VIII: averiguá para qué sirve cada uno de los métodos y qué parámetros podés pasarseles. ¡Esta información nos será útil para más adelante!"
   ]
  }
 ],
 "metadata": {
  "interpreter": {
   "hash": "f8ca15d83b6fb72cece3edcf60f6aa40d2cbdeb5c60e0f188ff8c7c65828fd00"
  },
  "kernelspec": {
   "display_name": "Python 3.10.4 64-bit (windows store)",
   "language": "python",
   "name": "python3"
  },
  "language_info": {
   "codemirror_mode": {
    "name": "ipython",
    "version": 3
   },
   "file_extension": ".py",
   "mimetype": "text/x-python",
   "name": "python",
   "nbconvert_exporter": "python",
   "pygments_lexer": "ipython3",
   "version": "3.10.5"
  },
  "orig_nbformat": 4
 },
 "nbformat": 4,
 "nbformat_minor": 2
}
