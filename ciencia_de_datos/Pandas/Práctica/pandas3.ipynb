{
 "cells": [
  {
   "cell_type": "code",
   "execution_count": 2,
   "metadata": {},
   "outputs": [],
   "source": [
    "'''Ejercicio: \n",
    "Obtener las 10 personas con mayor edad y generar un nuevo DataFrame con la información de el id de la persona, el año, \n",
    "su edad, el id de la categoría conicet y las producciones académicas de los últimos 4 años. Unirlo con el DataFrame conicet \n",
    "y en base a ese generar una tabla con el id de la persona y la descripción de la categoría en conicet. \n",
    "\n",
    "Luego guardar este último DataFrame en un archivo.'''\n",
    "import pandas as pd \n",
    "personas = pd.read_csv(r'C:\\Users\\Usuario\\Desktop\\UNIVERSIDAD\\fund_info\\F-de-Informatica-sample\\ciencia_de_datos\\Pandas\\personas_2011.csv', sep=';')\n",
    "conicet = pd.read_csv(r'C:\\Users\\Usuario\\Desktop\\UNIVERSIDAD\\fund_info\\F-de-Informatica-sample\\ciencia_de_datos\\Pandas\\ref_categoria_conicet.csv', sep=';')\n",
    "pers_mayores = personas.sort_values(by = [\"edad\"], ascending = False, ignore_index = True).head(10) \n",
    "df = pers_mayores[['persona_id', 'anio', 'edad', 'categoria_conicet_id', 'producciones_ult_4_anios']]\n",
    "df_final = pd.merge(df, conicet, on = \"categoria_conicet_id\")\n",
    "df_final.to_csv(\"Resultado.csv\", index=False) "
   ]
  }
 ],
 "metadata": {
  "interpreter": {
   "hash": "f8ca15d83b6fb72cece3edcf60f6aa40d2cbdeb5c60e0f188ff8c7c65828fd00"
  },
  "kernelspec": {
   "display_name": "Python 3.10.4 64-bit (windows store)",
   "language": "python",
   "name": "python3"
  },
  "language_info": {
   "codemirror_mode": {
    "name": "ipython",
    "version": 3
   },
   "file_extension": ".py",
   "mimetype": "text/x-python",
   "name": "python",
   "nbconvert_exporter": "python",
   "pygments_lexer": "ipython3",
   "version": "3.10.5"
  },
  "orig_nbformat": 4
 },
 "nbformat": 4,
 "nbformat_minor": 2
}
