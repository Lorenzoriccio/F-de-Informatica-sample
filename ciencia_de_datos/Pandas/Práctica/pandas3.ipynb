{
 "cells": [
  {
   "cell_type": "code",
   "execution_count": 3,
   "metadata": {},
   "outputs": [
    {
     "data": {
      "text/html": [
       "<div>\n",
       "<style scoped>\n",
       "    .dataframe tbody tr th:only-of-type {\n",
       "        vertical-align: middle;\n",
       "    }\n",
       "\n",
       "    .dataframe tbody tr th {\n",
       "        vertical-align: top;\n",
       "    }\n",
       "\n",
       "    .dataframe thead th {\n",
       "        text-align: right;\n",
       "    }\n",
       "</style>\n",
       "<table border=\"1\" class=\"dataframe\">\n",
       "  <thead>\n",
       "    <tr style=\"text-align: right;\">\n",
       "      <th></th>\n",
       "      <th>persona_id</th>\n",
       "      <th>anio</th>\n",
       "      <th>edad</th>\n",
       "      <th>categoria_conicet_id</th>\n",
       "      <th>producciones_ult_4_anios</th>\n",
       "    </tr>\n",
       "  </thead>\n",
       "  <tbody>\n",
       "    <tr>\n",
       "      <th>0</th>\n",
       "      <td>6522</td>\n",
       "      <td>2011</td>\n",
       "      <td>88</td>\n",
       "      <td>5.0</td>\n",
       "      <td>8</td>\n",
       "    </tr>\n",
       "    <tr>\n",
       "      <th>1</th>\n",
       "      <td>63317</td>\n",
       "      <td>2011</td>\n",
       "      <td>85</td>\n",
       "      <td>-1.0</td>\n",
       "      <td>0</td>\n",
       "    </tr>\n",
       "    <tr>\n",
       "      <th>2</th>\n",
       "      <td>18569</td>\n",
       "      <td>2011</td>\n",
       "      <td>84</td>\n",
       "      <td>-1.0</td>\n",
       "      <td>11</td>\n",
       "    </tr>\n",
       "    <tr>\n",
       "      <th>3</th>\n",
       "      <td>9442</td>\n",
       "      <td>2011</td>\n",
       "      <td>84</td>\n",
       "      <td>-1.0</td>\n",
       "      <td>19</td>\n",
       "    </tr>\n",
       "    <tr>\n",
       "      <th>4</th>\n",
       "      <td>44842</td>\n",
       "      <td>2011</td>\n",
       "      <td>84</td>\n",
       "      <td>-1.0</td>\n",
       "      <td>28</td>\n",
       "    </tr>\n",
       "    <tr>\n",
       "      <th>5</th>\n",
       "      <td>15685</td>\n",
       "      <td>2011</td>\n",
       "      <td>83</td>\n",
       "      <td>-1.0</td>\n",
       "      <td>12</td>\n",
       "    </tr>\n",
       "    <tr>\n",
       "      <th>6</th>\n",
       "      <td>29049</td>\n",
       "      <td>2011</td>\n",
       "      <td>83</td>\n",
       "      <td>-1.0</td>\n",
       "      <td>1</td>\n",
       "    </tr>\n",
       "    <tr>\n",
       "      <th>7</th>\n",
       "      <td>15407</td>\n",
       "      <td>2011</td>\n",
       "      <td>83</td>\n",
       "      <td>-1.0</td>\n",
       "      <td>9</td>\n",
       "    </tr>\n",
       "    <tr>\n",
       "      <th>8</th>\n",
       "      <td>15238</td>\n",
       "      <td>2011</td>\n",
       "      <td>83</td>\n",
       "      <td>-1.0</td>\n",
       "      <td>22</td>\n",
       "    </tr>\n",
       "    <tr>\n",
       "      <th>9</th>\n",
       "      <td>59467</td>\n",
       "      <td>2011</td>\n",
       "      <td>83</td>\n",
       "      <td>-1.0</td>\n",
       "      <td>13</td>\n",
       "    </tr>\n",
       "  </tbody>\n",
       "</table>\n",
       "</div>"
      ],
      "text/plain": [
       "   persona_id  anio  edad  categoria_conicet_id  producciones_ult_4_anios\n",
       "0        6522  2011    88                   5.0                         8\n",
       "1       63317  2011    85                  -1.0                         0\n",
       "2       18569  2011    84                  -1.0                        11\n",
       "3        9442  2011    84                  -1.0                        19\n",
       "4       44842  2011    84                  -1.0                        28\n",
       "5       15685  2011    83                  -1.0                        12\n",
       "6       29049  2011    83                  -1.0                         1\n",
       "7       15407  2011    83                  -1.0                         9\n",
       "8       15238  2011    83                  -1.0                        22\n",
       "9       59467  2011    83                  -1.0                        13"
      ]
     },
     "execution_count": 3,
     "metadata": {},
     "output_type": "execute_result"
    }
   ],
   "source": [
    "''' Ejercicio: \n",
    "Obtener las 10 personas con mayor edad y generar un nuevo DataFrame con la información de el id de la persona, el año, \n",
    "su edad, el id de la categoría conicet y las producciones académicas de los últimos 4 años. Unirlo con el DataFrame conicet \n",
    "y en base a ese generar una tabla con el id de la persona y la descripción de la categoría en conicet. \n",
    "\n",
    "Luego guardar este último DataFrame en un archivo.'''\n",
    "import pandas as pd \n",
    "personas = pd.read_csv(r'C:\\Users\\Usuario\\Desktop\\UNIVERSIDAD\\fund_info\\F-de-Informatica-sample\\ciencia_de_datos\\Pandas\\personas_2011.csv', sep=';')\n",
    "conicet = pd.read_csv(r'C:\\Users\\Usuario\\Desktop\\UNIVERSIDAD\\fund_info\\F-de-Informatica-sample\\ciencia_de_datos\\Pandas\\ref_categoria_conicet.csv', sep=';')\n",
    "# Filtrar, crear y visualizar el nuevo DataFrame\n",
    "pers_mayores = personas.sort_values(by = [\"edad\"], ascending = False, ignore_index = True).head(10) \n",
    "df = pers_mayores[['persona_id', 'anio', 'edad', 'categoria_conicet_id', 'producciones_ult_4_anios']]\n",
    "df"
   ]
  },
  {
   "cell_type": "code",
   "execution_count": null,
   "metadata": {},
   "outputs": [],
   "source": [
    "# Combinar el DataFrame a conicet y guardarlo como un nuevo archivo\n",
    "df_final = pd.merge(df, conicet, on = \"categoria_conicet_id\")\n",
    "df_final.to_csv(\"Resultado.csv\", index=False) "
   ]
  },
  {
   "cell_type": "code",
   "execution_count": 4,
   "metadata": {},
   "outputs": [
    {
     "name": "stdout",
     "output_type": "stream",
     "text": [
      "  Nombre    Sexo  Edad\n",
      "0   Luis  Hombre    18\n",
      "1  María   Mujer    25\n"
     ]
    }
   ],
   "source": [
    "'''Teoría de pd.merge: \n",
    "inner: filas cuyos valores en la clave están en ambos\n",
    "outer: todas las filas de ambos, como resultado puede haber NaNs\n",
    "left: todas las del df1 y descarta las que no se pueden emparejar con df2\n",
    "right: todas las del df2 y descarta las que no se pueden emparejar con df1 '''\n",
    "# Ejemplos de pd.merge\n",
    "\n",
    "import pandas as pd\n",
    "df1 = pd.DataFrame({\"Nombre\":[\"Carmen\", \"Luis\", \"María\"],  \"Sexo\":[\"Mujer\", \"Hombre\", \"Mujer\"]})\n",
    "df2 = pd.DataFrame({\"Nombre\":[\"María\", \"Pedro\", \"Luis\"], \"Edad\":[25, 30, 18]})\n",
    "df = pd.merge(df1, df2, on=\"Nombre\") #inner (por defecto)\n",
    "print(df)"
   ]
  },
  {
   "cell_type": "code",
   "execution_count": 6,
   "metadata": {},
   "outputs": [
    {
     "name": "stdout",
     "output_type": "stream",
     "text": [
      "   Nombre    Sexo  Edad\n",
      "0  Carmen   Mujer   NaN\n",
      "1    Luis  Hombre  18.0\n",
      "2   María   Mujer  25.0\n",
      "3   Pedro     NaN  30.0\n"
     ]
    }
   ],
   "source": [
    "import pandas as pd\n",
    "df1 = pd.DataFrame({\"Nombre\":[\"Carmen\", \"Luis\", \"María\"],  \"Sexo\":[\"Mujer\", \"Hombre\", \"Mujer\"]})\n",
    "df2 = pd.DataFrame({\"Nombre\":[\"María\", \"Pedro\", \"Luis\"], \"Edad\":[25, 30, 18]})\n",
    "df = pd.merge(df1, df2, on=\"Nombre\", how=\"outer\") #outer\n",
    "print(df) "
   ]
  },
  {
   "cell_type": "code",
   "execution_count": 7,
   "metadata": {},
   "outputs": [
    {
     "name": "stdout",
     "output_type": "stream",
     "text": [
      "   Nombre    Sexo  Edad\n",
      "0  Carmen   Mujer   NaN\n",
      "1    Luis  Hombre  18.0\n",
      "2   María   Mujer  25.0\n"
     ]
    }
   ],
   "source": [
    "import pandas as pd\n",
    "df1 = pd.DataFrame({\"Nombre\":[\"Carmen\", \"Luis\", \"María\"],  \"Sexo\":[\"Mujer\", \"Hombre\", \"Mujer\"]})\n",
    "df2 = pd.DataFrame({\"Nombre\":[\"María\", \"Pedro\", \"Luis\"], \"Edad\":[25, 30, 18]})\n",
    "df = pd.merge(df1, df2, on=\"Nombre\", how=\"left\") #left\n",
    "print(df)"
   ]
  },
  {
   "cell_type": "code",
   "execution_count": 8,
   "metadata": {},
   "outputs": [
    {
     "name": "stdout",
     "output_type": "stream",
     "text": [
      "  Nombre    Sexo  Edad\n",
      "0  María   Mujer    25\n",
      "1  Pedro     NaN    30\n",
      "2   Luis  Hombre    18\n"
     ]
    }
   ],
   "source": [
    "import pandas as pd\n",
    "df1 = pd.DataFrame({\"Nombre\":[\"Carmen\", \"Luis\", \"María\"],  \"Sexo\":[\"Mujer\", \"Hombre\", \"Mujer\"]})\n",
    "df2 = pd.DataFrame({\"Nombre\":[\"María\", \"Pedro\", \"Luis\"], \"Edad\":[25, 30, 18]})\n",
    "df = pd.merge(df1, df2, on=\"Nombre\", how=\"right\") #right\n",
    "print(df)"
   ]
  }
 ],
 "metadata": {
  "interpreter": {
   "hash": "f8ca15d83b6fb72cece3edcf60f6aa40d2cbdeb5c60e0f188ff8c7c65828fd00"
  },
  "kernelspec": {
   "display_name": "Python 3.10.4 64-bit (windows store)",
   "language": "python",
   "name": "python3"
  },
  "language_info": {
   "codemirror_mode": {
    "name": "ipython",
    "version": 3
   },
   "file_extension": ".py",
   "mimetype": "text/x-python",
   "name": "python",
   "nbconvert_exporter": "python",
   "pygments_lexer": "ipython3",
   "version": "3.10.5"
  },
  "orig_nbformat": 4
 },
 "nbformat": 4,
 "nbformat_minor": 2
}
