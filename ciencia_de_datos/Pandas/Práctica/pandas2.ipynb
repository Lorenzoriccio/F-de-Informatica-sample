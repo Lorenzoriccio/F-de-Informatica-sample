{
 "cells": [
  {
   "cell_type": "code",
   "execution_count": null,
   "metadata": {},
   "outputs": [],
   "source": [
    "'''\n",
    "Ejercicio 1\n",
    "Escribí un programa que dado un diccionario cuyos valores sean listas de números cree un DataFrame y luego seleccione e imprima las filas del DataFrame basado en un valor de una columna.\n",
    "Diccionario de muestra: {1: [1, 4, 3, 4, 5], 2: [4, 5, 6, 7, 8], 3: [7, 8, 9, 0, 1]}, y el valor es 4 en la columna 1.'''"
   ]
  },
  {
   "cell_type": "code",
   "execution_count": 5,
   "metadata": {},
   "outputs": [
    {
     "data": {
      "text/plain": [
       "[0            No pertenece a Conicet\n",
       " 1            Investigador asistente\n",
       " 2              Investigador adjunto\n",
       " 3        Investigador independiente\n",
       " 4            Investigador principal\n",
       " 5             Investigador superior\n",
       " 6                  Becario doctoral\n",
       " 7              Becario postdoctoral\n",
       " 8                 Personal de apoyo\n",
       " 9                       Gestión CyT\n",
       " 10                          Pasante\n",
       " 11            Otro personal Conicet\n",
       " 12     Investigador correspondiente\n",
       " 13    Investigador superior emérito\n",
       " Name: categoria_conicet_descripcion, dtype: object]"
      ]
     },
     "execution_count": 5,
     "metadata": {},
     "output_type": "execute_result"
    }
   ],
   "source": [
    "'''\n",
    "Ejercicio 2\n",
    "Escribí un programa que guarde en una lista una columna de un DataFrame.'''\n",
    "import pandas as pd \n",
    "categorias = pd.read_csv(r'C:\\Users\\Usuario\\Desktop\\UNIVERSIDAD\\fund_info\\F-de-Informatica-sample\\F-Informatica-LRiccio\\Prácticos-Datos\\Pandas\\ref_categoria_conicet.csv', sep=';')\n",
    "def guardar_en_lista(columna): \n",
    "    lista = []\n",
    "    lista.append(categorias[columna])\n",
    "    return lista \n",
    "\n",
    "guardar_en_lista('categoria_conicet_descripcion')\n"
   ]
  },
  {
   "cell_type": "code",
   "execution_count": 7,
   "metadata": {},
   "outputs": [
    {
     "name": "stdout",
     "output_type": "stream",
     "text": [
      "                 Mood\n",
      "0           Excelente\n",
      "1                Bien\n",
      "2  Podría estar mejor\n",
      "3                 Mal\n",
      "4        No me hables\n"
     ]
    }
   ],
   "source": [
    "'''\n",
    "Ejercicio 3\n",
    "Realizá un programa que agregue datos a un DataFrame vacío.'''\n",
    "df = pd.DataFrame()\n",
    "def agregar_datos(columna, contenido): \n",
    "    df[columna] = contenido \n",
    "    print(df)\n",
    "\n",
    "agregar_datos('Mood', ['Excelente', 'Bien', 'Podría estar mejor', 'Mal', 'No me hables'])"
   ]
  },
  {
   "cell_type": "code",
   "execution_count": null,
   "metadata": {},
   "outputs": [],
   "source": [
    "'''\n",
    "Ejercicio 4\n",
    "Escribí un programa que elimine las primeras n filas de un DataFrame. Pista: el DataFrame original no debe modificarse.'''"
   ]
  },
  {
   "cell_type": "code",
   "execution_count": 12,
   "metadata": {},
   "outputs": [
    {
     "name": "stdout",
     "output_type": "stream",
     "text": [
      "La columna se encuentra dentro del Dataframe\n"
     ]
    }
   ],
   "source": [
    "'''\n",
    "Ejercicio 5\n",
    "Realizá un programa que verifique si una columna dada se encuentra presente en un DataFrame.'''\n",
    "\n",
    "def verificar_columna(column, dataframe): \n",
    "    columnas = []\n",
    "    for i in dataframe: \n",
    "        columnas.append(i)\n",
    "        if column in columnas: \n",
    "            print('La columna se encuentra dentro del Dataframe')\n",
    "        else: \n",
    "            print('La columna indicada no existe en el Dataframe')\n",
    "\n",
    "verificar_columna('Mood', df)"
   ]
  },
  {
   "cell_type": "code",
   "execution_count": null,
   "metadata": {},
   "outputs": [],
   "source": [
    "'''\n",
    "Ejercicio 6\n",
    "Escribí un programa que dado dos diccionarios genere dos DataFrame y los una tanto en el eje de las columnas como en el eje de las filas.'''"
   ]
  },
  {
   "cell_type": "code",
   "execution_count": null,
   "metadata": {},
   "outputs": [],
   "source": [
    "'''\n",
    "Ejercicio 7\n",
    "Creá un programa que dado un diccionario y una lista añada está última al DataFrame generado a partir del diccionario.'''"
   ]
  },
  {
   "cell_type": "code",
   "execution_count": 13,
   "metadata": {},
   "outputs": [
    {
     "name": "stdout",
     "output_type": "stream",
     "text": [
      "  Aprobados\n",
      "0     María\n",
      "1         -\n",
      "2       Ana\n",
      "0    Martín\n",
      "1  Mercedes\n"
     ]
    }
   ],
   "source": [
    "'''\n",
    "Ejercicio 8\n",
    "Realizá un programa que dado dos DataFrames genere otro que contenga solo las columnas en común.'''\n",
    "df1 = pd.DataFrame({\"Notas\":[\"9\", \"4\", \"8\"], \"Alumnos\":[\"María\", \"José\", \"Ana\"], \"Aprobados\":[\"María\", \"-\", 'Ana']})\n",
    "df2 = pd.DataFrame({\"Aprobados\":[\"Martín\", \"Mercedes\"], \"Notables\":[\"María\", \"Martín\"]})\n",
    "nuevo_df = pd.DataFrame(pd.concat([df1, df2], join=\"inner\"))# join='inner' te junta aquellas columnas en comun\n",
    "            # intersección --> it returns a dataframe with only those rows that have common characteristics\n",
    "print(nuevo_df)"
   ]
  }
 ],
 "metadata": {
  "interpreter": {
   "hash": "f8ca15d83b6fb72cece3edcf60f6aa40d2cbdeb5c60e0f188ff8c7c65828fd00"
  },
  "kernelspec": {
   "display_name": "Python 3.10.4 64-bit (windows store)",
   "language": "python",
   "name": "python3"
  },
  "language_info": {
   "codemirror_mode": {
    "name": "ipython",
    "version": 3
   },
   "file_extension": ".py",
   "mimetype": "text/x-python",
   "name": "python",
   "nbconvert_exporter": "python",
   "pygments_lexer": "ipython3",
   "version": "3.10.5"
  },
  "orig_nbformat": 4
 },
 "nbformat": 4,
 "nbformat_minor": 2
}
