{
 "cells": [
  {
   "cell_type": "code",
   "execution_count": 7,
   "metadata": {},
   "outputs": [
    {
     "name": "stdout",
     "output_type": "stream",
     "text": [
      "   1  2  3\n",
      "1  4  5  8\n",
      "3  4  7  0\n"
     ]
    }
   ],
   "source": [
    "'''\n",
    "Ejercicio 1\n",
    "Escribí un programa que dado un diccionario cuyos valores sean listas de números cree un DataFrame y luego seleccione e imprima las filas del DataFrame basado en un valor de una columna.\n",
    "Diccionario de muestra: {1: [1, 4, 3, 4, 5], 2: [4, 5, 6, 7, 8], 3: [7, 8, 9, 0, 1]}, y el valor es 4 en la columna 1.'''\n",
    "dic = {1: [1, 4, 3, 4, 5], 2: [4, 5, 6, 7, 8], 3: [7, 8, 9, 0, 1]}\n",
    "df = pd.DataFrame(dic)\n",
    "print(df.loc[df[1] == 4]) \n",
    "# Entiendo el código pero no lo que devuelve, por qué hay varios valores en lugar de uno sólo?"
   ]
  },
  {
   "cell_type": "code",
   "execution_count": 5,
   "metadata": {},
   "outputs": [
    {
     "data": {
      "text/plain": [
       "[0            No pertenece a Conicet\n",
       " 1            Investigador asistente\n",
       " 2              Investigador adjunto\n",
       " 3        Investigador independiente\n",
       " 4            Investigador principal\n",
       " 5             Investigador superior\n",
       " 6                  Becario doctoral\n",
       " 7              Becario postdoctoral\n",
       " 8                 Personal de apoyo\n",
       " 9                       Gestión CyT\n",
       " 10                          Pasante\n",
       " 11            Otro personal Conicet\n",
       " 12     Investigador correspondiente\n",
       " 13    Investigador superior emérito\n",
       " Name: categoria_conicet_descripcion, dtype: object]"
      ]
     },
     "execution_count": 5,
     "metadata": {},
     "output_type": "execute_result"
    }
   ],
   "source": [
    "'''\n",
    "Ejercicio 2\n",
    "Escribí un programa que guarde en una lista una columna de un DataFrame.'''\n",
    "import pandas as pd \n",
    "categorias = pd.read_csv(r'C:\\Users\\Usuario\\Desktop\\UNIVERSIDAD\\fund_info\\F-de-Informatica-sample\\ciencia_de_datos\\Pandas\\ref_categoria_conicet.csv', sep=';')\n",
    "def guardar_en_lista(columna): \n",
    "    lista = []\n",
    "    lista.append(categorias[columna])\n",
    "    return lista \n",
    "\n",
    "guardar_en_lista('categoria_conicet_descripcion')\n"
   ]
  },
  {
   "cell_type": "code",
   "execution_count": 7,
   "metadata": {},
   "outputs": [
    {
     "name": "stdout",
     "output_type": "stream",
     "text": [
      "                 Mood\n",
      "0           Excelente\n",
      "1                Bien\n",
      "2  Podría estar mejor\n",
      "3                 Mal\n",
      "4        No me hables\n"
     ]
    }
   ],
   "source": [
    "'''\n",
    "Ejercicio 3\n",
    "Realizá un programa que agregue datos a un DataFrame vacío.'''\n",
    "df = pd.DataFrame()\n",
    "def agregar_datos(columna, contenido): \n",
    "    df[columna] = contenido \n",
    "    print(df)\n",
    "\n",
    "agregar_datos('Mood', ['Excelente', 'Bien', 'Podría estar mejor', 'Mal', 'No me hables'])"
   ]
  },
  {
   "cell_type": "code",
   "execution_count": 14,
   "metadata": {},
   "outputs": [
    {
     "data": {
      "text/html": [
       "<div>\n",
       "<style scoped>\n",
       "    .dataframe tbody tr th:only-of-type {\n",
       "        vertical-align: middle;\n",
       "    }\n",
       "\n",
       "    .dataframe tbody tr th {\n",
       "        vertical-align: top;\n",
       "    }\n",
       "\n",
       "    .dataframe thead th {\n",
       "        text-align: right;\n",
       "    }\n",
       "</style>\n",
       "<table border=\"1\" class=\"dataframe\">\n",
       "  <thead>\n",
       "    <tr style=\"text-align: right;\">\n",
       "      <th></th>\n",
       "      <th>nombre</th>\n",
       "      <th>edad</th>\n",
       "      <th>sexo</th>\n",
       "      <th>peso</th>\n",
       "      <th>altura</th>\n",
       "      <th>colesterol</th>\n",
       "    </tr>\n",
       "  </thead>\n",
       "  <tbody>\n",
       "    <tr>\n",
       "      <th>0</th>\n",
       "      <td>José Luis Martínez Izquierdo</td>\n",
       "      <td>18</td>\n",
       "      <td>H</td>\n",
       "      <td>85.0</td>\n",
       "      <td>1.79</td>\n",
       "      <td>182.0</td>\n",
       "    </tr>\n",
       "    <tr>\n",
       "      <th>1</th>\n",
       "      <td>Rosa Díaz Díaz</td>\n",
       "      <td>32</td>\n",
       "      <td>M</td>\n",
       "      <td>65.0</td>\n",
       "      <td>1.73</td>\n",
       "      <td>232.0</td>\n",
       "    </tr>\n",
       "    <tr>\n",
       "      <th>2</th>\n",
       "      <td>Javier García Sánchez</td>\n",
       "      <td>24</td>\n",
       "      <td>H</td>\n",
       "      <td>NaN</td>\n",
       "      <td>1.81</td>\n",
       "      <td>191.0</td>\n",
       "    </tr>\n",
       "    <tr>\n",
       "      <th>3</th>\n",
       "      <td>Carmen López Pinzón</td>\n",
       "      <td>35</td>\n",
       "      <td>M</td>\n",
       "      <td>65.0</td>\n",
       "      <td>1.70</td>\n",
       "      <td>200.0</td>\n",
       "    </tr>\n",
       "    <tr>\n",
       "      <th>4</th>\n",
       "      <td>Marisa López Collado</td>\n",
       "      <td>46</td>\n",
       "      <td>M</td>\n",
       "      <td>51.0</td>\n",
       "      <td>1.58</td>\n",
       "      <td>148.0</td>\n",
       "    </tr>\n",
       "    <tr>\n",
       "      <th>5</th>\n",
       "      <td>Antonio Ruiz Cruz</td>\n",
       "      <td>68</td>\n",
       "      <td>H</td>\n",
       "      <td>66.0</td>\n",
       "      <td>1.74</td>\n",
       "      <td>249.0</td>\n",
       "    </tr>\n",
       "    <tr>\n",
       "      <th>6</th>\n",
       "      <td>Antonio Fernández Ocaña</td>\n",
       "      <td>51</td>\n",
       "      <td>H</td>\n",
       "      <td>62.0</td>\n",
       "      <td>1.72</td>\n",
       "      <td>276.0</td>\n",
       "    </tr>\n",
       "    <tr>\n",
       "      <th>7</th>\n",
       "      <td>Pilar Martín González</td>\n",
       "      <td>22</td>\n",
       "      <td>M</td>\n",
       "      <td>60.0</td>\n",
       "      <td>1.66</td>\n",
       "      <td>NaN</td>\n",
       "    </tr>\n",
       "    <tr>\n",
       "      <th>8</th>\n",
       "      <td>Pedro Gálvez Tenorio</td>\n",
       "      <td>35</td>\n",
       "      <td>H</td>\n",
       "      <td>90.0</td>\n",
       "      <td>1.94</td>\n",
       "      <td>241.0</td>\n",
       "    </tr>\n",
       "    <tr>\n",
       "      <th>9</th>\n",
       "      <td>Santiago Reillo Manzano</td>\n",
       "      <td>46</td>\n",
       "      <td>H</td>\n",
       "      <td>75.0</td>\n",
       "      <td>1.85</td>\n",
       "      <td>280.0</td>\n",
       "    </tr>\n",
       "    <tr>\n",
       "      <th>10</th>\n",
       "      <td>Macarena Álvarez Luna</td>\n",
       "      <td>53</td>\n",
       "      <td>M</td>\n",
       "      <td>55.0</td>\n",
       "      <td>1.62</td>\n",
       "      <td>262.0</td>\n",
       "    </tr>\n",
       "    <tr>\n",
       "      <th>11</th>\n",
       "      <td>José María de la Guía Sanz</td>\n",
       "      <td>58</td>\n",
       "      <td>H</td>\n",
       "      <td>78.0</td>\n",
       "      <td>1.87</td>\n",
       "      <td>198.0</td>\n",
       "    </tr>\n",
       "    <tr>\n",
       "      <th>12</th>\n",
       "      <td>Miguel Angel Cuadrado Gutiérrez</td>\n",
       "      <td>27</td>\n",
       "      <td>H</td>\n",
       "      <td>109.0</td>\n",
       "      <td>1.98</td>\n",
       "      <td>210.0</td>\n",
       "    </tr>\n",
       "    <tr>\n",
       "      <th>13</th>\n",
       "      <td>Carolina Rubio Moreno</td>\n",
       "      <td>20</td>\n",
       "      <td>M</td>\n",
       "      <td>61.0</td>\n",
       "      <td>1.77</td>\n",
       "      <td>194.0</td>\n",
       "    </tr>\n",
       "  </tbody>\n",
       "</table>\n",
       "</div>"
      ],
      "text/plain": [
       "                             nombre  edad sexo   peso  altura  colesterol\n",
       "0      José Luis Martínez Izquierdo    18    H   85.0    1.79       182.0\n",
       "1                    Rosa Díaz Díaz    32    M   65.0    1.73       232.0\n",
       "2             Javier García Sánchez    24    H    NaN    1.81       191.0\n",
       "3               Carmen López Pinzón    35    M   65.0    1.70       200.0\n",
       "4              Marisa López Collado    46    M   51.0    1.58       148.0\n",
       "5                 Antonio Ruiz Cruz    68    H   66.0    1.74       249.0\n",
       "6           Antonio Fernández Ocaña    51    H   62.0    1.72       276.0\n",
       "7             Pilar Martín González    22    M   60.0    1.66         NaN\n",
       "8              Pedro Gálvez Tenorio    35    H   90.0    1.94       241.0\n",
       "9           Santiago Reillo Manzano    46    H   75.0    1.85       280.0\n",
       "10            Macarena Álvarez Luna    53    M   55.0    1.62       262.0\n",
       "11       José María de la Guía Sanz    58    H   78.0    1.87       198.0\n",
       "12  Miguel Angel Cuadrado Gutiérrez    27    H  109.0    1.98       210.0\n",
       "13            Carolina Rubio Moreno    20    M   61.0    1.77       194.0"
      ]
     },
     "execution_count": 14,
     "metadata": {},
     "output_type": "execute_result"
    }
   ],
   "source": [
    "# DataFrame de ejemplo de teoría sacada de 'https://aprendeconalf.es/docencia/python/manual/pandas/#combinar-varios-dataframes'\n",
    "colesterol = pd.read_csv(r'https://raw.githubusercontent.com/asalber/manual-python/master/datos/colesterol.csv')\n",
    "colesterol "
   ]
  },
  {
   "cell_type": "code",
   "execution_count": 16,
   "metadata": {},
   "outputs": [
    {
     "name": "stdout",
     "output_type": "stream",
     "text": [
      "                             nombre  edad sexo   peso  altura  colesterol\n",
      "3               Carmen López Pinzón    35    M   65.0    1.70       200.0\n",
      "4              Marisa López Collado    46    M   51.0    1.58       148.0\n",
      "5                 Antonio Ruiz Cruz    68    H   66.0    1.74       249.0\n",
      "6           Antonio Fernández Ocaña    51    H   62.0    1.72       276.0\n",
      "7             Pilar Martín González    22    M   60.0    1.66         NaN\n",
      "8              Pedro Gálvez Tenorio    35    H   90.0    1.94       241.0\n",
      "9           Santiago Reillo Manzano    46    H   75.0    1.85       280.0\n",
      "10            Macarena Álvarez Luna    53    M   55.0    1.62       262.0\n",
      "11       José María de la Guía Sanz    58    H   78.0    1.87       198.0\n",
      "12  Miguel Angel Cuadrado Gutiérrez    27    H  109.0    1.98       210.0\n",
      "13            Carolina Rubio Moreno    20    M   61.0    1.77       194.0\n"
     ]
    }
   ],
   "source": [
    "'''\n",
    "Ejercicio 4\n",
    "Escribí un programa que elimine las primeras n filas de un DataFrame. Pista: el DataFrame original no debe modificarse.'''\n",
    "def eliminar_filas(cantidad): \n",
    "    nuevo_df = colesterol.drop(colesterol.index[0:cantidad]) \n",
    "    print(nuevo_df) \n",
    "\n",
    "eliminar_filas(3)\n",
    "# Es correcto, existen las filas desde la 3 hasta la 13, en total son 10 en lugar de 13\n",
    "# ... ahora, por qué no se reinicia el valor de la fila? en lugar de 3 sería 1"
   ]
  },
  {
   "cell_type": "code",
   "execution_count": 12,
   "metadata": {},
   "outputs": [
    {
     "name": "stdout",
     "output_type": "stream",
     "text": [
      "La columna se encuentra dentro del Dataframe\n"
     ]
    }
   ],
   "source": [
    "'''\n",
    "Ejercicio 5\n",
    "Realizá un programa que verifique si una columna dada se encuentra presente en un DataFrame.'''\n",
    "\n",
    "def verificar_columna(column, dataframe): \n",
    "    columnas = []\n",
    "    for i in dataframe: \n",
    "        columnas.append(i)\n",
    "        if column in columnas: \n",
    "            print('La columna se encuentra dentro del Dataframe')\n",
    "        else: \n",
    "            print('La columna indicada no existe en el Dataframe')\n",
    "\n",
    "verificar_columna('Mood', df)"
   ]
  },
  {
   "cell_type": "code",
   "execution_count": 23,
   "metadata": {},
   "outputs": [
    {
     "name": "stdout",
     "output_type": "stream",
     "text": [
      "Unido por columnas\n",
      "    A  B  C  D  E  F\n",
      "0  10  8  6  4  2  0\n",
      "1   9  7  5  3  1  -\n",
      "\n",
      "Unido por filas\n",
      "     A    B    C    D    E    F\n",
      "0   10    8    6  NaN  NaN  NaN\n",
      "1    9    7    5  NaN  NaN  NaN\n",
      "0  NaN  NaN  NaN    4    2    0\n",
      "1  NaN  NaN  NaN    3    1    -\n"
     ]
    }
   ],
   "source": [
    "'''\n",
    "Ejercicio 6\n",
    "Escribí un programa que dado dos diccionarios genere dos DataFrame y los una tanto en el eje de las columnas como en el eje de las filas.'''\n",
    "dicc1 = {\"A\":[\"10\", \"9\"], \"B\":[\"8\", \"7\"], \"C\":[\"6\", \"5\"]}\n",
    "df1 = pd.DataFrame(dicc1)\n",
    "dicc2 = {\"D\":[\"4\", \"3\"], \"E\":[\"2\", \"1\"], \"F\":[\"0\", \"-\"]}\n",
    "df2 = pd.DataFrame(dicc2)\n",
    "print('Unido por columnas')\n",
    "print(pd.concat([df1, df2], axis=1))\n",
    "print('\\nUnido por filas')\n",
    "print(pd.concat([df1, df2]))"
   ]
  },
  {
   "cell_type": "code",
   "execution_count": null,
   "metadata": {},
   "outputs": [],
   "source": [
    "'''\n",
    "Ejercicio 7\n",
    "Creá un programa que dado un diccionario y una lista añada está última al DataFrame generado a partir del diccionario.'''"
   ]
  },
  {
   "cell_type": "code",
   "execution_count": 17,
   "metadata": {},
   "outputs": [
    {
     "name": "stdout",
     "output_type": "stream",
     "text": [
      "  Aprobados\n",
      "0     María\n",
      "1         -\n",
      "2       Ana\n",
      "0    Martín\n",
      "1  Mercedes\n",
      "2       Ana\n"
     ]
    }
   ],
   "source": [
    "'''\n",
    "Ejercicio 8\n",
    "Realizá un programa que dado dos DataFrames genere otro que contenga solo las columnas en común.'''\n",
    "df1 = pd.DataFrame({\"Notas\":[\"9\", \"4\", \"8\"], \"Alumnos\":[\"María\", \"José\", \"Ana\"], \"Aprobados\":[\"María\", \"-\", 'Ana']})\n",
    "df2 = pd.DataFrame({\"Aprobados\":[\"Martín\", \"Mercedes\", 'Ana'], \"Notables\":[\"María\", \"Martín\", 'Guille']})\n",
    "nuevo_df = pd.DataFrame(pd.concat([df1, df2], join=\"inner\"))# join='inner' te junta aquellas columnas en comun\n",
    "            # intersección --> it returns a dataframe with only those rows that have common characteristics\n",
    "print(nuevo_df)"
   ]
  }
 ],
 "metadata": {
  "interpreter": {
   "hash": "f8ca15d83b6fb72cece3edcf60f6aa40d2cbdeb5c60e0f188ff8c7c65828fd00"
  },
  "kernelspec": {
   "display_name": "Python 3.10.4 64-bit (windows store)",
   "language": "python",
   "name": "python3"
  },
  "language_info": {
   "codemirror_mode": {
    "name": "ipython",
    "version": 3
   },
   "file_extension": ".py",
   "mimetype": "text/x-python",
   "name": "python",
   "nbconvert_exporter": "python",
   "pygments_lexer": "ipython3",
   "version": "3.10.5"
  },
  "orig_nbformat": 4
 },
 "nbformat": 4,
 "nbformat_minor": 2
}
